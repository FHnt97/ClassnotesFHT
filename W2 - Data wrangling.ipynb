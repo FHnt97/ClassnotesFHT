{
 "cells": [
  {
   "cell_type": "markdown",
   "metadata": {},
   "source": [
    "basic cleaning involves:\n",
    "    - correct column names\n",
    "    - correct types of data\n",
    "    - remove null values"
   ]
  },
  {
   "cell_type": "code",
   "execution_count": null,
   "metadata": {},
   "outputs": [],
   "source": []
  },
  {
   "cell_type": "code",
   "execution_count": null,
   "metadata": {},
   "outputs": [],
   "source": [
    "import pandas as pd"
   ]
  },
  {
   "cell_type": "code",
   "execution_count": null,
   "metadata": {},
   "outputs": [],
   "source": [
    "# to open file \n",
    "# ufo_table = pd.read_csv(\"scrubbed.csv\")"
   ]
  },
  {
   "cell_type": "code",
   "execution_count": null,
   "metadata": {},
   "outputs": [],
   "source": [
    "# each row is a observation\n",
    "# each column is an attribute\n",
    " "
   ]
  },
  {
   "cell_type": "code",
   "execution_count": null,
   "metadata": {},
   "outputs": [],
   "source": [
    "ufo_table.shape\n",
    "ufo_table.columns \n",
    "ufo_table.rename(columns = {\"a_original\": \"a_renamed\", ...})\n",
    "# to make sure original dataframe is changed\n",
    "ufo_table = ufo_table.rename(..."
   ]
  },
  {
   "cell_type": "code",
   "execution_count": null,
   "metadata": {},
   "outputs": [],
   "source": [
    "ufo_table.dtype\n",
    "ufo_table.info()\n",
    "# info will also give you the non null object\n",
    "# types need to be ok for better data analysis/ operatins\n"
   ]
  },
  {
   "cell_type": "markdown",
   "metadata": {},
   "source": [
    "#### Formating columns"
   ]
  },
  {
   "cell_type": "markdown",
   "metadata": {},
   "source": [
    "##### changes:\n",
    "\n",
    "datetime -to- date time \n",
    "\n",
    "strings -to- object\n",
    "\n",
    "numbers -to- integers/floats\n",
    "\n",
    "date -to- date\n",
    "\n",
    "latitude and lognitude -to- float \n",
    "    "
   ]
  },
  {
   "cell_type": "markdown",
   "metadata": {},
   "source": [
    "### datetime"
   ]
  },
  {
   "cell_type": "code",
   "execution_count": null,
   "metadata": {},
   "outputs": [],
   "source": [
    "ufo_table.astype({\"datetime\":\"datetime64[ns]\"})"
   ]
  },
  {
   "cell_type": "code",
   "execution_count": null,
   "metadata": {},
   "outputs": [],
   "source": [
    "ufo_table[\"hour_error\"] = ufo_table[\"datetime\"].apply(lambda x: \"24:\" in x)"
   ]
  },
  {
   "cell_type": "code",
   "execution_count": null,
   "metadata": {},
   "outputs": [],
   "source": [
    "ufo_table.head()\n",
    "ufo_table[ufo_table[\"hour_error\"]==True]"
   ]
  },
  {
   "cell_type": "code",
   "execution_count": null,
   "metadata": {},
   "outputs": [],
   "source": [
    "ufo_table[\"datetime_corrected\"] = ufo_table[\"datetime\"].appply(lambda x = x.replace(\"24:\", \"00:\"))\n",
    "          \n",
    "ufo_table[\"datetime\"] = ufo_table[\"datetime\"].appply(lambda x = x.replace(\"24:\", \"00:\"))\n",
    "ufo_table.astype({\"datetime\":\"datetime64[ns]\"})"
   ]
  },
  {
   "cell_type": "markdown",
   "metadata": {},
   "source": [
    "### delete"
   ]
  },
  {
   "cell_type": "code",
   "execution_count": null,
   "metadata": {},
   "outputs": [],
   "source": [
    "ufo_table.drop[[\"hour_error\", \"datetime_corrected\"], axis=1]\n",
    "# axis 0 - rows\n",
    "# axis 1 - columns\n"
   ]
  },
  {
   "cell_type": "markdown",
   "metadata": {},
   "source": [
    "### latitude"
   ]
  },
  {
   "cell_type": "code",
   "execution_count": null,
   "metadata": {},
   "outputs": [],
   "source": [
    "ufo_table.astype({\"latitude\": float})\n",
    "# gives error - one of the rows has a string value\n",
    "# look for row - delete - try again\n",
    "# OR: format and if not numeric - delete"
   ]
  },
  {
   "cell_type": "code",
   "execution_count": null,
   "metadata": {},
   "outputs": [],
   "source": [
    "ufo_table[ufo_table[\"latitude\"] == \"33q.200088\"]\n",
    "# if data is scarce - edit row - try to keep it (look at other values - latitude form city... )\n",
    "# if data is abundant - check if other attributes accurately eneted/ good - delete it \n",
    "\n",
    "ufo_table = ufo_table.drop(index)\n",
    "ufo_table.shape\n",
    "ufo_table = ufo_table.astype({\"latitude\": float})"
   ]
  },
  {
   "cell_type": "markdown",
   "metadata": {},
   "source": [
    "### seconds"
   ]
  },
  {
   "cell_type": "code",
   "execution_count": null,
   "metadata": {},
   "outputs": [],
   "source": [
    "ufo_table.astype({\"duration_seconds\": float})\n",
    "\n",
    "ufo_table[ufo_table[\"duration_seconds\"] == \"2'\"]\n",
    "# if data is scarce - edit row - try to keep it (look at other values - latitude form city... )\n",
    "# if data is abundant - check if other attributes accurately eneted/ good - delete it\n",
    "\n",
    "ufo_table.iloc[index]\n",
    "# to find info inside a index\n",
    "\n",
    "ufo_table = ufo_table.drop(index)\n",
    "ufo_table.shape\n",
    "ufo_table = ufo_table.astype({\"duration_seconds\": float})\n"
   ]
  },
  {
   "cell_type": "code",
   "execution_count": null,
   "metadata": {},
   "outputs": [],
   "source": [
    "# if error is repeated with equal character that doen't allow the formatting change character\n"
   ]
  },
  {
   "cell_type": "code",
   "execution_count": null,
   "metadata": {},
   "outputs": [],
   "source": [
    "ufo_table[\"duration_second_error\"] = ufo_table[\"duration_seconds\"].apply(lambda x: \"`\" in x)\n",
    "ufo_table.head()\n",
    "ufo_table[ufo_table[\"duration_second_error\"]==True]\n",
    "\n",
    "ufo_table[\"duration_second_corrected\"] = ufo_table[\"duration_second\"].appply(lambda x = x.replace(\"`\", \"\"))\n",
    "          \n",
    "ufo_table[\"duration_seconds\"] = ufo_table[\"duration_seconds\"].appply(lambda x = x.replace(\"`\", \"\"))\n",
    "ufo_table.astype({\"duration_seconds\":float})"
   ]
  },
  {
   "cell_type": "markdown",
   "metadata": {},
   "source": [
    "### date posted"
   ]
  },
  {
   "cell_type": "code",
   "execution_count": null,
   "metadata": {},
   "outputs": [],
   "source": [
    "ufo_table.astype({\"date\":\"datetime64[ns]\"})\n"
   ]
  },
  {
   "cell_type": "markdown",
   "metadata": {},
   "source": [
    "## null values\n"
   ]
  },
  {
   "cell_type": "code",
   "execution_count": null,
   "metadata": {},
   "outputs": [],
   "source": [
    "ufo_table.fillna(\"\")\n",
    "# .fillna \n",
    "#fills rows with any given value you want \n",
    "\n",
    "# interval laberls - use value_counts"
   ]
  },
  {
   "cell_type": "code",
   "execution_count": null,
   "metadata": {},
   "outputs": [],
   "source": [
    "# to put in a interval of useful data do as follows:\n",
    "# use lables:\n",
    "\n",
    "lable: [\"tipsy\", \"drunk\", \"intoxicated\"]\n",
    "pd.cut(ufo_table[\"duration_seconds\"], 3, labels = lables)\n",
    "\n",
    "ufo_table[\"duration_seconds_level\"]= pd.cut(ufo_table[\"duration_seconds\"], 3, labels = lables)\n",
    "\n",
    "ufo_table[\"duration_seconds_level\"].value_counts()\n",
    "\n",
    "# if without level pd.cut(ufo_table[\"duration_seconds\"], 3) --> will provide you with the intervals\n",
    "\n"
   ]
  },
  {
   "cell_type": "code",
   "execution_count": null,
   "metadata": {},
   "outputs": [],
   "source": [
    "# find how many varaibales of smth\n",
    "ufo_table[\"shape\"].value_counts()"
   ]
  },
  {
   "cell_type": "code",
   "execution_count": null,
   "metadata": {},
   "outputs": [],
   "source": [
    "ufo_table.groupby([\"country\", \"shape\"]).count()"
   ]
  },
  {
   "cell_type": "code",
   "execution_count": null,
   "metadata": {},
   "outputs": [],
   "source": [
    "ufo_table.groupby([\"country\", \"shape\"]).nunique()\n",
    "# will return a dataframe "
   ]
  },
  {
   "cell_type": "code",
   "execution_count": 2,
   "metadata": {},
   "outputs": [],
   "source": [
    "ufo_table[(ufo_table[\"datetime\"]).dt.hour <=6) | ufo_table(ufo_table[\"datetime\"]).dt.hour <=0)].count()/ufo_table.shape(0)"
   ]
  },
  {
   "cell_type": "code",
   "execution_count": null,
   "metadata": {},
   "outputs": [],
   "source": [
    "#ufo_table.datetime == ufo_table[\"datetime\"]\n",
    "import datetime as dt\n",
    "ufo_table[\"datetime\"].dt.hour"
   ]
  },
  {
   "cell_type": "code",
   "execution_count": null,
   "metadata": {},
   "outputs": [],
   "source": [
    "ufo_group = ufo_table.groupby([\"country\", \"shape\"]).count()\n",
    "ufo_group.head()"
   ]
  },
  {
   "cell_type": "code",
   "execution_count": null,
   "metadata": {},
   "outputs": [],
   "source": [
    "ufo_group1 = ufo_group [[\"datetime\"]].rename(columns = {\"datetime\" : \"count\"})\n",
    "# as all values of count will be equal in all columns - just take one \n",
    "# if .unique, the values will change depending on column"
   ]
  },
  {
   "cell_type": "code",
   "execution_count": null,
   "metadata": {},
   "outputs": [],
   "source": [
    "ufo_group.iloc[:,0] # gives series\n",
    "# to convert to dataaframe\n",
    "pd.DataFrame(ufo_group.iloc[:,0])"
   ]
  },
  {
   "cell_type": "code",
   "execution_count": null,
   "metadata": {},
   "outputs": [],
   "source": []
  }
 ],
 "metadata": {
  "kernelspec": {
   "display_name": "Python 3",
   "language": "python",
   "name": "python3"
  },
  "language_info": {
   "codemirror_mode": {
    "name": "ipython",
    "version": 3
   },
   "file_extension": ".py",
   "mimetype": "text/x-python",
   "name": "python",
   "nbconvert_exporter": "python",
   "pygments_lexer": "ipython3",
   "version": "3.7.3"
  }
 },
 "nbformat": 4,
 "nbformat_minor": 2
}
